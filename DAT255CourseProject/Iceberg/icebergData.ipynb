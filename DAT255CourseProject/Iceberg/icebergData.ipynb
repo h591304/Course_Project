{
  "cells": [
    {
      "cell_type": "markdown",
      "source": [
        "# Datahenting"
      ],
      "metadata": {
        "id": "xdMcoK1sN-zP"
      }
    },
    {
      "cell_type": "code",
      "execution_count": null,
      "metadata": {
        "colab": {
          "base_uri": "https://localhost:8080/"
        },
        "id": "ocU4ERviZLgy",
        "outputId": "b2cf8b23-72e3-4430-8fb6-d594f46aff19"
      },
      "outputs": [
        {
          "output_type": "stream",
          "name": "stdout",
          "text": [
            "Drive already mounted at /content/drive; to attempt to forcibly remount, call drive.mount(\"/content/drive\", force_remount=True).\n"
          ]
        }
      ],
      "source": [
        "from google.colab import drive\n",
        "drive.mount('/content/drive')"
      ]
    },
    {
      "cell_type": "markdown",
      "source": [
        "For å hente ut dataen, må den pakkes ut. Vi trener py7zr for dette"
      ],
      "metadata": {
        "id": "cEj1ST3ZN-MF"
      }
    },
    {
      "cell_type": "code",
      "execution_count": null,
      "metadata": {
        "id": "LuB4DppHJgOI",
        "colab": {
          "base_uri": "https://localhost:8080/"
        },
        "outputId": "16760029-9adb-468b-fbc8-8b9971cdaff6"
      },
      "outputs": [
        {
          "output_type": "stream",
          "name": "stdout",
          "text": [
            "Looking in indexes: https://pypi.org/simple, https://us-python.pkg.dev/colab-wheels/public/simple/\n",
            "Collecting py7zr\n",
            "  Downloading py7zr-0.20.4-py3-none-any.whl (66 kB)\n",
            "\u001b[2K     \u001b[90m━━━━━━━━━━━━━━━━━━━━━━━━━━━━━━━━━━━━━━━━\u001b[0m \u001b[32m66.3/66.3 KB\u001b[0m \u001b[31m2.6 MB/s\u001b[0m eta \u001b[36m0:00:00\u001b[0m\n",
            "\u001b[?25hCollecting multivolumefile>=0.2.3\n",
            "  Downloading multivolumefile-0.2.3-py3-none-any.whl (17 kB)\n",
            "Collecting pyzstd>=0.14.4\n",
            "  Downloading pyzstd-0.15.4-cp39-cp39-manylinux_2_17_x86_64.manylinux2014_x86_64.whl (384 kB)\n",
            "\u001b[2K     \u001b[90m━━━━━━━━━━━━━━━━━━━━━━━━━━━━━━━━━━━━━━\u001b[0m \u001b[32m384.0/384.0 KB\u001b[0m \u001b[31m12.0 MB/s\u001b[0m eta \u001b[36m0:00:00\u001b[0m\n",
            "\u001b[?25hCollecting texttable\n",
            "  Downloading texttable-1.6.7-py2.py3-none-any.whl (10 kB)\n",
            "Collecting inflate64>=0.3.1\n",
            "  Downloading inflate64-0.3.1-cp39-cp39-manylinux_2_17_x86_64.manylinux2014_x86_64.whl (92 kB)\n",
            "\u001b[2K     \u001b[90m━━━━━━━━━━━━━━━━━━━━━━━━━━━━━━━━━━━━━━━━\u001b[0m \u001b[32m93.0/93.0 KB\u001b[0m \u001b[31m11.0 MB/s\u001b[0m eta \u001b[36m0:00:00\u001b[0m\n",
            "\u001b[?25hRequirement already satisfied: psutil in /usr/local/lib/python3.9/dist-packages (from py7zr) (5.9.4)\n",
            "Collecting pybcj>=0.6.0\n",
            "  Downloading pybcj-1.0.1-cp39-cp39-manylinux_2_17_x86_64.manylinux2014_x86_64.whl (49 kB)\n",
            "\u001b[2K     \u001b[90m━━━━━━━━━━━━━━━━━━━━━━━━━━━━━━━━━━━━━━━━\u001b[0m \u001b[32m49.6/49.6 KB\u001b[0m \u001b[31m5.7 MB/s\u001b[0m eta \u001b[36m0:00:00\u001b[0m\n",
            "\u001b[?25hCollecting pycryptodomex>=3.6.6\n",
            "  Downloading pycryptodomex-3.17-cp35-abi3-manylinux_2_17_x86_64.manylinux2014_x86_64.whl (2.1 MB)\n",
            "\u001b[2K     \u001b[90m━━━━━━━━━━━━━━━━━━━━━━━━━━━━━━━━━━━━━━━━\u001b[0m \u001b[32m2.1/2.1 MB\u001b[0m \u001b[31m35.2 MB/s\u001b[0m eta \u001b[36m0:00:00\u001b[0m\n",
            "\u001b[?25hCollecting pyppmd<1.1.0,>=0.18.1\n",
            "  Downloading pyppmd-1.0.0-cp39-cp39-manylinux_2_17_x86_64.manylinux2014_x86_64.whl (138 kB)\n",
            "\u001b[2K     \u001b[90m━━━━━━━━━━━━━━━━━━━━━━━━━━━━━━━━━━━━━━\u001b[0m \u001b[32m138.7/138.7 KB\u001b[0m \u001b[31m14.1 MB/s\u001b[0m eta \u001b[36m0:00:00\u001b[0m\n",
            "\u001b[?25hCollecting brotli>=1.0.9\n",
            "  Downloading Brotli-1.0.9-cp39-cp39-manylinux1_x86_64.whl (357 kB)\n",
            "\u001b[2K     \u001b[90m━━━━━━━━━━━━━━━━━━━━━━━━━━━━━━━━━━━━━━\u001b[0m \u001b[32m357.2/357.2 KB\u001b[0m \u001b[31m24.4 MB/s\u001b[0m eta \u001b[36m0:00:00\u001b[0m\n",
            "\u001b[?25hInstalling collected packages: texttable, brotli, pyzstd, pyppmd, pycryptodomex, pybcj, multivolumefile, inflate64, py7zr\n",
            "Successfully installed brotli-1.0.9 inflate64-0.3.1 multivolumefile-0.2.3 py7zr-0.20.4 pybcj-1.0.1 pycryptodomex-3.17 pyppmd-1.0.0 pyzstd-0.15.4 texttable-1.6.7\n"
          ]
        }
      ],
      "source": [
        "!pip install py7zr"
      ]
    },
    {
      "cell_type": "code",
      "execution_count": null,
      "metadata": {
        "id": "Fdbm1C7MHUkk"
      },
      "outputs": [],
      "source": [
        "import zipfile\n",
        "import os\n",
        "import py7zr\n",
        "import shutil\n",
        "import pandas as pd\n",
        "import numpy as np\n",
        "import json\n",
        "from PIL import Image\n",
        "import matplotlib.pyplot as plt\n",
        "\n",
        "path = \"/content/drive/MyDrive/Iceberg challenge/\""
      ]
    },
    {
      "cell_type": "markdown",
      "source": [
        "Dataen kommer som en zip-fil som må pakkes ut"
      ],
      "metadata": {
        "id": "_dhh5UpWOSD5"
      }
    },
    {
      "cell_type": "code",
      "execution_count": null,
      "metadata": {
        "id": "2Lbx4YoMGwQa"
      },
      "outputs": [],
      "source": [
        "with zipfile.ZipFile(path + \"data/statoil-iceberg-classifier-challenge.zip\", 'r') as zip_ref:\n",
        "    zip_ref.extractall(path + \"unziped/\")"
      ]
    },
    {
      "cell_type": "markdown",
      "source": [
        "Dataen er deretter komprimert. Vi bruker py7zr for å hente ut daten fra filene"
      ],
      "metadata": {
        "id": "FjmkANFvOdki"
      }
    },
    {
      "cell_type": "code",
      "execution_count": null,
      "metadata": {
        "id": "d03ZY3zhHopr"
      },
      "outputs": [],
      "source": [
        "for filename in os.listdir(path + \"unziped/\"):\n",
        "    with py7zr.SevenZipFile(os.path.join(path + \"unziped/\", filename), mode='r') as archive:\n",
        "        archive.extractall(path=path)"
      ]
    },
    {
      "cell_type": "markdown",
      "source": [
        "Dataen flyttes"
      ],
      "metadata": {
        "id": "30vhjxs0OqT2"
      }
    },
    {
      "cell_type": "code",
      "execution_count": null,
      "metadata": {
        "id": "8lFuxg7eJ9D0"
      },
      "outputs": [],
      "source": [
        "for filename in os.listdir(path + \"data/processed/\"):\n",
        "\n",
        "    src_file = os.path.join(path + \"data/processed/\", filename)\n",
        "    dst_file = os.path.join(path, filename)\n",
        "\n",
        "    shutil.move(src_file, dst_file)"
      ]
    },
    {
      "cell_type": "markdown",
      "source": [
        "Sjekker dataen train.json for å se hva lags type data det er."
      ],
      "metadata": {
        "id": "xclDKrPwOs0Q"
      }
    },
    {
      "cell_type": "code",
      "execution_count": null,
      "metadata": {
        "id": "a8GeIgt5LPfB"
      },
      "outputs": [],
      "source": [
        "train = pd.read_json(r\"/content/drive/MyDrive/Iceberg challenge/train.json\")"
      ]
    },
    {
      "cell_type": "code",
      "execution_count": null,
      "metadata": {
        "colab": {
          "base_uri": "https://localhost:8080/"
        },
        "id": "K21WQklEHyxm",
        "outputId": "811ee6be-e09d-4d66-b6b6-0963c28ac9fe"
      },
      "outputs": [
        {
          "output_type": "stream",
          "name": "stdout",
          "text": [
            "<class 'pandas.core.frame.DataFrame'>\n",
            "RangeIndex: 1604 entries, 0 to 1603\n",
            "Data columns (total 5 columns):\n",
            " #   Column      Non-Null Count  Dtype \n",
            "---  ------      --------------  ----- \n",
            " 0   id          1604 non-null   object\n",
            " 1   band_1      1604 non-null   object\n",
            " 2   band_2      1604 non-null   object\n",
            " 3   inc_angle   1604 non-null   object\n",
            " 4   is_iceberg  1604 non-null   int64 \n",
            "dtypes: int64(1), object(4)\n",
            "memory usage: 62.8+ KB\n"
          ]
        }
      ],
      "source": [
        "train.info()"
      ]
    },
    {
      "cell_type": "markdown",
      "source": [
        "Vi endrer vinkelen til en float. Dette er relevant senere."
      ],
      "metadata": {
        "id": "QqdAIx1gO2L1"
      }
    },
    {
      "cell_type": "code",
      "execution_count": null,
      "metadata": {
        "id": "Lf18V4-KIJbs"
      },
      "outputs": [],
      "source": [
        "train[\"inc_angle_float\"] = train[\"inc_angle\"].replace(\"na\", np.nan).astype(float)"
      ]
    },
    {
      "cell_type": "markdown",
      "source": [
        "Ser vi på dataen ser vi at vi har to lister som blir bildene og en angle."
      ],
      "metadata": {
        "id": "CL75y-iDO-lz"
      }
    },
    {
      "cell_type": "code",
      "source": [
        "train.head()"
      ],
      "metadata": {
        "colab": {
          "base_uri": "https://localhost:8080/",
          "height": 530
        },
        "id": "IoNqT7365gcc",
        "outputId": "cfdc59e4-1e21-4a9a-a441-f3fbfd0f44b9"
      },
      "execution_count": null,
      "outputs": [
        {
          "output_type": "execute_result",
          "data": {
            "text/plain": [
              "         id                                             band_1  \\\n",
              "0  dfd5f913  [-27.878360999999998, -27.15416, -28.668615, -...   \n",
              "1  e25388fd  [-12.242375, -14.920304999999999, -14.920363, ...   \n",
              "2  58b2aaa0  [-24.603676, -24.603714, -24.871029, -23.15277...   \n",
              "3  4cfc3a18  [-22.454607, -23.082819, -23.998013, -23.99805...   \n",
              "4  271f93f4  [-26.006956, -23.164886, -23.164886, -26.89116...   \n",
              "\n",
              "                                              band_2 inc_angle  is_iceberg  \\\n",
              "0  [-27.154118, -29.537888, -31.0306, -32.190483,...   43.9239           0   \n",
              "1  [-31.506321, -27.984554, -26.645678, -23.76760...   38.1562           0   \n",
              "2  [-24.870956, -24.092632, -20.653963, -19.41104...   45.2859           1   \n",
              "3  [-27.889421, -27.519794, -27.165262, -29.10350...   43.8306           0   \n",
              "4  [-27.206915, -30.259186, -30.259186, -23.16495...   35.6256           0   \n",
              "\n",
              "   inc_angle_float  \n",
              "0          43.9239  \n",
              "1          38.1562  \n",
              "2          45.2859  \n",
              "3          43.8306  \n",
              "4          35.6256  "
            ],
            "text/html": [
              "\n",
              "  <div id=\"df-3160e44f-1590-46a4-b9c9-81805f1b9d14\">\n",
              "    <div class=\"colab-df-container\">\n",
              "      <div>\n",
              "<style scoped>\n",
              "    .dataframe tbody tr th:only-of-type {\n",
              "        vertical-align: middle;\n",
              "    }\n",
              "\n",
              "    .dataframe tbody tr th {\n",
              "        vertical-align: top;\n",
              "    }\n",
              "\n",
              "    .dataframe thead th {\n",
              "        text-align: right;\n",
              "    }\n",
              "</style>\n",
              "<table border=\"1\" class=\"dataframe\">\n",
              "  <thead>\n",
              "    <tr style=\"text-align: right;\">\n",
              "      <th></th>\n",
              "      <th>id</th>\n",
              "      <th>band_1</th>\n",
              "      <th>band_2</th>\n",
              "      <th>inc_angle</th>\n",
              "      <th>is_iceberg</th>\n",
              "      <th>inc_angle_float</th>\n",
              "    </tr>\n",
              "  </thead>\n",
              "  <tbody>\n",
              "    <tr>\n",
              "      <th>0</th>\n",
              "      <td>dfd5f913</td>\n",
              "      <td>[-27.878360999999998, -27.15416, -28.668615, -...</td>\n",
              "      <td>[-27.154118, -29.537888, -31.0306, -32.190483,...</td>\n",
              "      <td>43.9239</td>\n",
              "      <td>0</td>\n",
              "      <td>43.9239</td>\n",
              "    </tr>\n",
              "    <tr>\n",
              "      <th>1</th>\n",
              "      <td>e25388fd</td>\n",
              "      <td>[-12.242375, -14.920304999999999, -14.920363, ...</td>\n",
              "      <td>[-31.506321, -27.984554, -26.645678, -23.76760...</td>\n",
              "      <td>38.1562</td>\n",
              "      <td>0</td>\n",
              "      <td>38.1562</td>\n",
              "    </tr>\n",
              "    <tr>\n",
              "      <th>2</th>\n",
              "      <td>58b2aaa0</td>\n",
              "      <td>[-24.603676, -24.603714, -24.871029, -23.15277...</td>\n",
              "      <td>[-24.870956, -24.092632, -20.653963, -19.41104...</td>\n",
              "      <td>45.2859</td>\n",
              "      <td>1</td>\n",
              "      <td>45.2859</td>\n",
              "    </tr>\n",
              "    <tr>\n",
              "      <th>3</th>\n",
              "      <td>4cfc3a18</td>\n",
              "      <td>[-22.454607, -23.082819, -23.998013, -23.99805...</td>\n",
              "      <td>[-27.889421, -27.519794, -27.165262, -29.10350...</td>\n",
              "      <td>43.8306</td>\n",
              "      <td>0</td>\n",
              "      <td>43.8306</td>\n",
              "    </tr>\n",
              "    <tr>\n",
              "      <th>4</th>\n",
              "      <td>271f93f4</td>\n",
              "      <td>[-26.006956, -23.164886, -23.164886, -26.89116...</td>\n",
              "      <td>[-27.206915, -30.259186, -30.259186, -23.16495...</td>\n",
              "      <td>35.6256</td>\n",
              "      <td>0</td>\n",
              "      <td>35.6256</td>\n",
              "    </tr>\n",
              "  </tbody>\n",
              "</table>\n",
              "</div>\n",
              "      <button class=\"colab-df-convert\" onclick=\"convertToInteractive('df-3160e44f-1590-46a4-b9c9-81805f1b9d14')\"\n",
              "              title=\"Convert this dataframe to an interactive table.\"\n",
              "              style=\"display:none;\">\n",
              "        \n",
              "  <svg xmlns=\"http://www.w3.org/2000/svg\" height=\"24px\"viewBox=\"0 0 24 24\"\n",
              "       width=\"24px\">\n",
              "    <path d=\"M0 0h24v24H0V0z\" fill=\"none\"/>\n",
              "    <path d=\"M18.56 5.44l.94 2.06.94-2.06 2.06-.94-2.06-.94-.94-2.06-.94 2.06-2.06.94zm-11 1L8.5 8.5l.94-2.06 2.06-.94-2.06-.94L8.5 2.5l-.94 2.06-2.06.94zm10 10l.94 2.06.94-2.06 2.06-.94-2.06-.94-.94-2.06-.94 2.06-2.06.94z\"/><path d=\"M17.41 7.96l-1.37-1.37c-.4-.4-.92-.59-1.43-.59-.52 0-1.04.2-1.43.59L10.3 9.45l-7.72 7.72c-.78.78-.78 2.05 0 2.83L4 21.41c.39.39.9.59 1.41.59.51 0 1.02-.2 1.41-.59l7.78-7.78 2.81-2.81c.8-.78.8-2.07 0-2.86zM5.41 20L4 18.59l7.72-7.72 1.47 1.35L5.41 20z\"/>\n",
              "  </svg>\n",
              "      </button>\n",
              "      \n",
              "  <style>\n",
              "    .colab-df-container {\n",
              "      display:flex;\n",
              "      flex-wrap:wrap;\n",
              "      gap: 12px;\n",
              "    }\n",
              "\n",
              "    .colab-df-convert {\n",
              "      background-color: #E8F0FE;\n",
              "      border: none;\n",
              "      border-radius: 50%;\n",
              "      cursor: pointer;\n",
              "      display: none;\n",
              "      fill: #1967D2;\n",
              "      height: 32px;\n",
              "      padding: 0 0 0 0;\n",
              "      width: 32px;\n",
              "    }\n",
              "\n",
              "    .colab-df-convert:hover {\n",
              "      background-color: #E2EBFA;\n",
              "      box-shadow: 0px 1px 2px rgba(60, 64, 67, 0.3), 0px 1px 3px 1px rgba(60, 64, 67, 0.15);\n",
              "      fill: #174EA6;\n",
              "    }\n",
              "\n",
              "    [theme=dark] .colab-df-convert {\n",
              "      background-color: #3B4455;\n",
              "      fill: #D2E3FC;\n",
              "    }\n",
              "\n",
              "    [theme=dark] .colab-df-convert:hover {\n",
              "      background-color: #434B5C;\n",
              "      box-shadow: 0px 1px 3px 1px rgba(0, 0, 0, 0.15);\n",
              "      filter: drop-shadow(0px 1px 2px rgba(0, 0, 0, 0.3));\n",
              "      fill: #FFFFFF;\n",
              "    }\n",
              "  </style>\n",
              "\n",
              "      <script>\n",
              "        const buttonEl =\n",
              "          document.querySelector('#df-3160e44f-1590-46a4-b9c9-81805f1b9d14 button.colab-df-convert');\n",
              "        buttonEl.style.display =\n",
              "          google.colab.kernel.accessAllowed ? 'block' : 'none';\n",
              "\n",
              "        async function convertToInteractive(key) {\n",
              "          const element = document.querySelector('#df-3160e44f-1590-46a4-b9c9-81805f1b9d14');\n",
              "          const dataTable =\n",
              "            await google.colab.kernel.invokeFunction('convertToInteractive',\n",
              "                                                     [key], {});\n",
              "          if (!dataTable) return;\n",
              "\n",
              "          const docLinkHtml = 'Like what you see? Visit the ' +\n",
              "            '<a target=\"_blank\" href=https://colab.research.google.com/notebooks/data_table.ipynb>data table notebook</a>'\n",
              "            + ' to learn more about interactive tables.';\n",
              "          element.innerHTML = '';\n",
              "          dataTable['output_type'] = 'display_data';\n",
              "          await google.colab.output.renderOutput(dataTable, element);\n",
              "          const docLink = document.createElement('div');\n",
              "          docLink.innerHTML = docLinkHtml;\n",
              "          element.appendChild(docLink);\n",
              "        }\n",
              "      </script>\n",
              "    </div>\n",
              "  </div>\n",
              "  "
            ]
          },
          "metadata": {},
          "execution_count": 20
        }
      ]
    },
    {
      "cell_type": "markdown",
      "source": [
        "Vi ser på maks og min av angel og bruker dette videre når vi skal gjøre dataen klar for modellen. Vi ser også på medianen."
      ],
      "metadata": {
        "id": "IAbmOeMAPE_d"
      }
    },
    {
      "cell_type": "code",
      "source": [
        "train.describe()"
      ],
      "metadata": {
        "colab": {
          "base_uri": "https://localhost:8080/",
          "height": 300
        },
        "id": "rHh3WIr25sIi",
        "outputId": "3c3f0910-edf7-453b-b721-511756abf0c0"
      },
      "execution_count": null,
      "outputs": [
        {
          "output_type": "execute_result",
          "data": {
            "text/plain": [
              "        is_iceberg  inc_angle_float\n",
              "count  1604.000000      1471.000000\n",
              "mean      0.469451        39.268707\n",
              "std       0.499222         3.839744\n",
              "min       0.000000        24.754600\n",
              "25%       0.000000        36.106100\n",
              "50%       0.000000        39.501500\n",
              "75%       1.000000        42.559100\n",
              "max       1.000000        45.937500"
            ],
            "text/html": [
              "\n",
              "  <div id=\"df-d4514fc8-756f-4380-907a-ebf13a629cbf\">\n",
              "    <div class=\"colab-df-container\">\n",
              "      <div>\n",
              "<style scoped>\n",
              "    .dataframe tbody tr th:only-of-type {\n",
              "        vertical-align: middle;\n",
              "    }\n",
              "\n",
              "    .dataframe tbody tr th {\n",
              "        vertical-align: top;\n",
              "    }\n",
              "\n",
              "    .dataframe thead th {\n",
              "        text-align: right;\n",
              "    }\n",
              "</style>\n",
              "<table border=\"1\" class=\"dataframe\">\n",
              "  <thead>\n",
              "    <tr style=\"text-align: right;\">\n",
              "      <th></th>\n",
              "      <th>is_iceberg</th>\n",
              "      <th>inc_angle_float</th>\n",
              "    </tr>\n",
              "  </thead>\n",
              "  <tbody>\n",
              "    <tr>\n",
              "      <th>count</th>\n",
              "      <td>1604.000000</td>\n",
              "      <td>1471.000000</td>\n",
              "    </tr>\n",
              "    <tr>\n",
              "      <th>mean</th>\n",
              "      <td>0.469451</td>\n",
              "      <td>39.268707</td>\n",
              "    </tr>\n",
              "    <tr>\n",
              "      <th>std</th>\n",
              "      <td>0.499222</td>\n",
              "      <td>3.839744</td>\n",
              "    </tr>\n",
              "    <tr>\n",
              "      <th>min</th>\n",
              "      <td>0.000000</td>\n",
              "      <td>24.754600</td>\n",
              "    </tr>\n",
              "    <tr>\n",
              "      <th>25%</th>\n",
              "      <td>0.000000</td>\n",
              "      <td>36.106100</td>\n",
              "    </tr>\n",
              "    <tr>\n",
              "      <th>50%</th>\n",
              "      <td>0.000000</td>\n",
              "      <td>39.501500</td>\n",
              "    </tr>\n",
              "    <tr>\n",
              "      <th>75%</th>\n",
              "      <td>1.000000</td>\n",
              "      <td>42.559100</td>\n",
              "    </tr>\n",
              "    <tr>\n",
              "      <th>max</th>\n",
              "      <td>1.000000</td>\n",
              "      <td>45.937500</td>\n",
              "    </tr>\n",
              "  </tbody>\n",
              "</table>\n",
              "</div>\n",
              "      <button class=\"colab-df-convert\" onclick=\"convertToInteractive('df-d4514fc8-756f-4380-907a-ebf13a629cbf')\"\n",
              "              title=\"Convert this dataframe to an interactive table.\"\n",
              "              style=\"display:none;\">\n",
              "        \n",
              "  <svg xmlns=\"http://www.w3.org/2000/svg\" height=\"24px\"viewBox=\"0 0 24 24\"\n",
              "       width=\"24px\">\n",
              "    <path d=\"M0 0h24v24H0V0z\" fill=\"none\"/>\n",
              "    <path d=\"M18.56 5.44l.94 2.06.94-2.06 2.06-.94-2.06-.94-.94-2.06-.94 2.06-2.06.94zm-11 1L8.5 8.5l.94-2.06 2.06-.94-2.06-.94L8.5 2.5l-.94 2.06-2.06.94zm10 10l.94 2.06.94-2.06 2.06-.94-2.06-.94-.94-2.06-.94 2.06-2.06.94z\"/><path d=\"M17.41 7.96l-1.37-1.37c-.4-.4-.92-.59-1.43-.59-.52 0-1.04.2-1.43.59L10.3 9.45l-7.72 7.72c-.78.78-.78 2.05 0 2.83L4 21.41c.39.39.9.59 1.41.59.51 0 1.02-.2 1.41-.59l7.78-7.78 2.81-2.81c.8-.78.8-2.07 0-2.86zM5.41 20L4 18.59l7.72-7.72 1.47 1.35L5.41 20z\"/>\n",
              "  </svg>\n",
              "      </button>\n",
              "      \n",
              "  <style>\n",
              "    .colab-df-container {\n",
              "      display:flex;\n",
              "      flex-wrap:wrap;\n",
              "      gap: 12px;\n",
              "    }\n",
              "\n",
              "    .colab-df-convert {\n",
              "      background-color: #E8F0FE;\n",
              "      border: none;\n",
              "      border-radius: 50%;\n",
              "      cursor: pointer;\n",
              "      display: none;\n",
              "      fill: #1967D2;\n",
              "      height: 32px;\n",
              "      padding: 0 0 0 0;\n",
              "      width: 32px;\n",
              "    }\n",
              "\n",
              "    .colab-df-convert:hover {\n",
              "      background-color: #E2EBFA;\n",
              "      box-shadow: 0px 1px 2px rgba(60, 64, 67, 0.3), 0px 1px 3px 1px rgba(60, 64, 67, 0.15);\n",
              "      fill: #174EA6;\n",
              "    }\n",
              "\n",
              "    [theme=dark] .colab-df-convert {\n",
              "      background-color: #3B4455;\n",
              "      fill: #D2E3FC;\n",
              "    }\n",
              "\n",
              "    [theme=dark] .colab-df-convert:hover {\n",
              "      background-color: #434B5C;\n",
              "      box-shadow: 0px 1px 3px 1px rgba(0, 0, 0, 0.15);\n",
              "      filter: drop-shadow(0px 1px 2px rgba(0, 0, 0, 0.3));\n",
              "      fill: #FFFFFF;\n",
              "    }\n",
              "  </style>\n",
              "\n",
              "      <script>\n",
              "        const buttonEl =\n",
              "          document.querySelector('#df-d4514fc8-756f-4380-907a-ebf13a629cbf button.colab-df-convert');\n",
              "        buttonEl.style.display =\n",
              "          google.colab.kernel.accessAllowed ? 'block' : 'none';\n",
              "\n",
              "        async function convertToInteractive(key) {\n",
              "          const element = document.querySelector('#df-d4514fc8-756f-4380-907a-ebf13a629cbf');\n",
              "          const dataTable =\n",
              "            await google.colab.kernel.invokeFunction('convertToInteractive',\n",
              "                                                     [key], {});\n",
              "          if (!dataTable) return;\n",
              "\n",
              "          const docLinkHtml = 'Like what you see? Visit the ' +\n",
              "            '<a target=\"_blank\" href=https://colab.research.google.com/notebooks/data_table.ipynb>data table notebook</a>'\n",
              "            + ' to learn more about interactive tables.';\n",
              "          element.innerHTML = '';\n",
              "          dataTable['output_type'] = 'display_data';\n",
              "          await google.colab.output.renderOutput(dataTable, element);\n",
              "          const docLink = document.createElement('div');\n",
              "          docLink.innerHTML = docLinkHtml;\n",
              "          element.appendChild(docLink);\n",
              "        }\n",
              "      </script>\n",
              "    </div>\n",
              "  </div>\n",
              "  "
            ]
          },
          "metadata": {},
          "execution_count": 23
        }
      ]
    },
    {
      "cell_type": "markdown",
      "source": [
        "Etter det utforsker vi dataen til bildene for å kunne gjøre det om til skikkelige bilder"
      ],
      "metadata": {
        "id": "ybGpgxx4PUPA"
      }
    },
    {
      "cell_type": "code",
      "execution_count": null,
      "metadata": {
        "id": "TfwpgKZ_H3RE"
      },
      "outputs": [],
      "source": [
        "images = train['band_1'].apply(pd.Series)"
      ]
    },
    {
      "cell_type": "code",
      "execution_count": null,
      "metadata": {
        "colab": {
          "base_uri": "https://localhost:8080/",
          "height": 393
        },
        "id": "Du8BwDBcZfQz",
        "outputId": "7e2d9ece-8670-4c36-a6e2-63ffe02f7941"
      },
      "outputs": [
        {
          "output_type": "execute_result",
          "data": {
            "text/plain": [
              "              0            1            2            3            4     \\\n",
              "count  1604.000000  1604.000000  1604.000000  1604.000000  1604.000000   \n",
              "mean    -21.302326   -21.288866   -21.295688   -21.189692   -21.222296   \n",
              "std       4.661642     4.585940     4.620560     4.637229     4.665151   \n",
              "min     -34.342476   -35.199150   -34.483612   -36.112686   -34.236160   \n",
              "25%     -24.589828   -24.375652   -24.465958   -24.412218   -24.445268   \n",
              "50%     -21.530195   -21.567130   -21.419868   -21.430448   -21.473858   \n",
              "75%     -18.214358   -18.195189   -18.181257   -18.025943   -17.944955   \n",
              "max      -0.409181    -1.344282     0.994824    -2.494462    -5.199882   \n",
              "\n",
              "              5            6            7            8            9     ...  \\\n",
              "count  1604.000000  1604.000000  1604.000000  1604.000000  1604.000000  ...   \n",
              "mean    -21.282704   -21.208693   -21.208613   -21.221149   -21.165331  ...   \n",
              "std       4.598152     4.602969     4.701104     4.719870     4.608224  ...   \n",
              "min     -35.130840   -35.138069   -36.398098   -36.078415   -37.120934  ...   \n",
              "25%     -24.525135   -24.222940   -24.360941   -24.480304   -24.391779  ...   \n",
              "50%     -21.443691   -21.566519   -21.479487   -21.348716   -21.357700  ...   \n",
              "75%     -18.336565   -18.290898   -18.299305   -18.165282   -18.125326  ...   \n",
              "max      -3.272221    -3.272221    -0.898517     0.533515    -0.472869  ...   \n",
              "\n",
              "              5615         5616         5617         5618         5619  \\\n",
              "count  1604.000000  1604.000000  1604.000000  1604.000000  1604.000000   \n",
              "mean    -21.099285   -21.187623   -21.114997   -21.099205   -21.175288   \n",
              "std       4.795787     4.844566     4.755315     4.682830     4.654673   \n",
              "min     -33.610283   -34.794334   -33.822159   -34.310867   -34.577980   \n",
              "25%     -24.293627   -24.451814   -24.452619   -24.345105   -24.387427   \n",
              "50%     -21.417735   -21.490065   -21.528172   -21.383256   -21.454923   \n",
              "75%     -17.973210   -18.023556   -17.829949   -18.060853   -18.205362   \n",
              "max      10.950119    12.845238    14.235908    10.961592     4.696007   \n",
              "\n",
              "              5620         5621         5622         5623         5624  \n",
              "count  1604.000000  1604.000000  1604.000000  1604.000000  1604.000000  \n",
              "mean    -21.198813   -21.129364   -21.120029   -21.141225   -21.232032  \n",
              "std       4.680857     4.727302     4.679988     4.690738     4.711066  \n",
              "min     -34.374985   -34.348328   -38.296291   -34.411652   -35.915554  \n",
              "25%     -24.504689   -24.254384   -24.399267   -24.432191   -24.637891  \n",
              "50%     -21.545220   -21.408700   -21.427516   -21.369689   -21.525042  \n",
              "75%     -17.999125   -17.981660   -17.958085   -17.991117   -18.017677  \n",
              "max       2.835509     3.080125    -3.675944    -5.267934    -5.263488  \n",
              "\n",
              "[8 rows x 5625 columns]"
            ],
            "text/html": [
              "\n",
              "  <div id=\"df-b9dede80-9686-4332-8ab6-e3f6352ef494\">\n",
              "    <div class=\"colab-df-container\">\n",
              "      <div>\n",
              "<style scoped>\n",
              "    .dataframe tbody tr th:only-of-type {\n",
              "        vertical-align: middle;\n",
              "    }\n",
              "\n",
              "    .dataframe tbody tr th {\n",
              "        vertical-align: top;\n",
              "    }\n",
              "\n",
              "    .dataframe thead th {\n",
              "        text-align: right;\n",
              "    }\n",
              "</style>\n",
              "<table border=\"1\" class=\"dataframe\">\n",
              "  <thead>\n",
              "    <tr style=\"text-align: right;\">\n",
              "      <th></th>\n",
              "      <th>0</th>\n",
              "      <th>1</th>\n",
              "      <th>2</th>\n",
              "      <th>3</th>\n",
              "      <th>4</th>\n",
              "      <th>5</th>\n",
              "      <th>6</th>\n",
              "      <th>7</th>\n",
              "      <th>8</th>\n",
              "      <th>9</th>\n",
              "      <th>...</th>\n",
              "      <th>5615</th>\n",
              "      <th>5616</th>\n",
              "      <th>5617</th>\n",
              "      <th>5618</th>\n",
              "      <th>5619</th>\n",
              "      <th>5620</th>\n",
              "      <th>5621</th>\n",
              "      <th>5622</th>\n",
              "      <th>5623</th>\n",
              "      <th>5624</th>\n",
              "    </tr>\n",
              "  </thead>\n",
              "  <tbody>\n",
              "    <tr>\n",
              "      <th>count</th>\n",
              "      <td>1604.000000</td>\n",
              "      <td>1604.000000</td>\n",
              "      <td>1604.000000</td>\n",
              "      <td>1604.000000</td>\n",
              "      <td>1604.000000</td>\n",
              "      <td>1604.000000</td>\n",
              "      <td>1604.000000</td>\n",
              "      <td>1604.000000</td>\n",
              "      <td>1604.000000</td>\n",
              "      <td>1604.000000</td>\n",
              "      <td>...</td>\n",
              "      <td>1604.000000</td>\n",
              "      <td>1604.000000</td>\n",
              "      <td>1604.000000</td>\n",
              "      <td>1604.000000</td>\n",
              "      <td>1604.000000</td>\n",
              "      <td>1604.000000</td>\n",
              "      <td>1604.000000</td>\n",
              "      <td>1604.000000</td>\n",
              "      <td>1604.000000</td>\n",
              "      <td>1604.000000</td>\n",
              "    </tr>\n",
              "    <tr>\n",
              "      <th>mean</th>\n",
              "      <td>-21.302326</td>\n",
              "      <td>-21.288866</td>\n",
              "      <td>-21.295688</td>\n",
              "      <td>-21.189692</td>\n",
              "      <td>-21.222296</td>\n",
              "      <td>-21.282704</td>\n",
              "      <td>-21.208693</td>\n",
              "      <td>-21.208613</td>\n",
              "      <td>-21.221149</td>\n",
              "      <td>-21.165331</td>\n",
              "      <td>...</td>\n",
              "      <td>-21.099285</td>\n",
              "      <td>-21.187623</td>\n",
              "      <td>-21.114997</td>\n",
              "      <td>-21.099205</td>\n",
              "      <td>-21.175288</td>\n",
              "      <td>-21.198813</td>\n",
              "      <td>-21.129364</td>\n",
              "      <td>-21.120029</td>\n",
              "      <td>-21.141225</td>\n",
              "      <td>-21.232032</td>\n",
              "    </tr>\n",
              "    <tr>\n",
              "      <th>std</th>\n",
              "      <td>4.661642</td>\n",
              "      <td>4.585940</td>\n",
              "      <td>4.620560</td>\n",
              "      <td>4.637229</td>\n",
              "      <td>4.665151</td>\n",
              "      <td>4.598152</td>\n",
              "      <td>4.602969</td>\n",
              "      <td>4.701104</td>\n",
              "      <td>4.719870</td>\n",
              "      <td>4.608224</td>\n",
              "      <td>...</td>\n",
              "      <td>4.795787</td>\n",
              "      <td>4.844566</td>\n",
              "      <td>4.755315</td>\n",
              "      <td>4.682830</td>\n",
              "      <td>4.654673</td>\n",
              "      <td>4.680857</td>\n",
              "      <td>4.727302</td>\n",
              "      <td>4.679988</td>\n",
              "      <td>4.690738</td>\n",
              "      <td>4.711066</td>\n",
              "    </tr>\n",
              "    <tr>\n",
              "      <th>min</th>\n",
              "      <td>-34.342476</td>\n",
              "      <td>-35.199150</td>\n",
              "      <td>-34.483612</td>\n",
              "      <td>-36.112686</td>\n",
              "      <td>-34.236160</td>\n",
              "      <td>-35.130840</td>\n",
              "      <td>-35.138069</td>\n",
              "      <td>-36.398098</td>\n",
              "      <td>-36.078415</td>\n",
              "      <td>-37.120934</td>\n",
              "      <td>...</td>\n",
              "      <td>-33.610283</td>\n",
              "      <td>-34.794334</td>\n",
              "      <td>-33.822159</td>\n",
              "      <td>-34.310867</td>\n",
              "      <td>-34.577980</td>\n",
              "      <td>-34.374985</td>\n",
              "      <td>-34.348328</td>\n",
              "      <td>-38.296291</td>\n",
              "      <td>-34.411652</td>\n",
              "      <td>-35.915554</td>\n",
              "    </tr>\n",
              "    <tr>\n",
              "      <th>25%</th>\n",
              "      <td>-24.589828</td>\n",
              "      <td>-24.375652</td>\n",
              "      <td>-24.465958</td>\n",
              "      <td>-24.412218</td>\n",
              "      <td>-24.445268</td>\n",
              "      <td>-24.525135</td>\n",
              "      <td>-24.222940</td>\n",
              "      <td>-24.360941</td>\n",
              "      <td>-24.480304</td>\n",
              "      <td>-24.391779</td>\n",
              "      <td>...</td>\n",
              "      <td>-24.293627</td>\n",
              "      <td>-24.451814</td>\n",
              "      <td>-24.452619</td>\n",
              "      <td>-24.345105</td>\n",
              "      <td>-24.387427</td>\n",
              "      <td>-24.504689</td>\n",
              "      <td>-24.254384</td>\n",
              "      <td>-24.399267</td>\n",
              "      <td>-24.432191</td>\n",
              "      <td>-24.637891</td>\n",
              "    </tr>\n",
              "    <tr>\n",
              "      <th>50%</th>\n",
              "      <td>-21.530195</td>\n",
              "      <td>-21.567130</td>\n",
              "      <td>-21.419868</td>\n",
              "      <td>-21.430448</td>\n",
              "      <td>-21.473858</td>\n",
              "      <td>-21.443691</td>\n",
              "      <td>-21.566519</td>\n",
              "      <td>-21.479487</td>\n",
              "      <td>-21.348716</td>\n",
              "      <td>-21.357700</td>\n",
              "      <td>...</td>\n",
              "      <td>-21.417735</td>\n",
              "      <td>-21.490065</td>\n",
              "      <td>-21.528172</td>\n",
              "      <td>-21.383256</td>\n",
              "      <td>-21.454923</td>\n",
              "      <td>-21.545220</td>\n",
              "      <td>-21.408700</td>\n",
              "      <td>-21.427516</td>\n",
              "      <td>-21.369689</td>\n",
              "      <td>-21.525042</td>\n",
              "    </tr>\n",
              "    <tr>\n",
              "      <th>75%</th>\n",
              "      <td>-18.214358</td>\n",
              "      <td>-18.195189</td>\n",
              "      <td>-18.181257</td>\n",
              "      <td>-18.025943</td>\n",
              "      <td>-17.944955</td>\n",
              "      <td>-18.336565</td>\n",
              "      <td>-18.290898</td>\n",
              "      <td>-18.299305</td>\n",
              "      <td>-18.165282</td>\n",
              "      <td>-18.125326</td>\n",
              "      <td>...</td>\n",
              "      <td>-17.973210</td>\n",
              "      <td>-18.023556</td>\n",
              "      <td>-17.829949</td>\n",
              "      <td>-18.060853</td>\n",
              "      <td>-18.205362</td>\n",
              "      <td>-17.999125</td>\n",
              "      <td>-17.981660</td>\n",
              "      <td>-17.958085</td>\n",
              "      <td>-17.991117</td>\n",
              "      <td>-18.017677</td>\n",
              "    </tr>\n",
              "    <tr>\n",
              "      <th>max</th>\n",
              "      <td>-0.409181</td>\n",
              "      <td>-1.344282</td>\n",
              "      <td>0.994824</td>\n",
              "      <td>-2.494462</td>\n",
              "      <td>-5.199882</td>\n",
              "      <td>-3.272221</td>\n",
              "      <td>-3.272221</td>\n",
              "      <td>-0.898517</td>\n",
              "      <td>0.533515</td>\n",
              "      <td>-0.472869</td>\n",
              "      <td>...</td>\n",
              "      <td>10.950119</td>\n",
              "      <td>12.845238</td>\n",
              "      <td>14.235908</td>\n",
              "      <td>10.961592</td>\n",
              "      <td>4.696007</td>\n",
              "      <td>2.835509</td>\n",
              "      <td>3.080125</td>\n",
              "      <td>-3.675944</td>\n",
              "      <td>-5.267934</td>\n",
              "      <td>-5.263488</td>\n",
              "    </tr>\n",
              "  </tbody>\n",
              "</table>\n",
              "<p>8 rows × 5625 columns</p>\n",
              "</div>\n",
              "      <button class=\"colab-df-convert\" onclick=\"convertToInteractive('df-b9dede80-9686-4332-8ab6-e3f6352ef494')\"\n",
              "              title=\"Convert this dataframe to an interactive table.\"\n",
              "              style=\"display:none;\">\n",
              "        \n",
              "  <svg xmlns=\"http://www.w3.org/2000/svg\" height=\"24px\"viewBox=\"0 0 24 24\"\n",
              "       width=\"24px\">\n",
              "    <path d=\"M0 0h24v24H0V0z\" fill=\"none\"/>\n",
              "    <path d=\"M18.56 5.44l.94 2.06.94-2.06 2.06-.94-2.06-.94-.94-2.06-.94 2.06-2.06.94zm-11 1L8.5 8.5l.94-2.06 2.06-.94-2.06-.94L8.5 2.5l-.94 2.06-2.06.94zm10 10l.94 2.06.94-2.06 2.06-.94-2.06-.94-.94-2.06-.94 2.06-2.06.94z\"/><path d=\"M17.41 7.96l-1.37-1.37c-.4-.4-.92-.59-1.43-.59-.52 0-1.04.2-1.43.59L10.3 9.45l-7.72 7.72c-.78.78-.78 2.05 0 2.83L4 21.41c.39.39.9.59 1.41.59.51 0 1.02-.2 1.41-.59l7.78-7.78 2.81-2.81c.8-.78.8-2.07 0-2.86zM5.41 20L4 18.59l7.72-7.72 1.47 1.35L5.41 20z\"/>\n",
              "  </svg>\n",
              "      </button>\n",
              "      \n",
              "  <style>\n",
              "    .colab-df-container {\n",
              "      display:flex;\n",
              "      flex-wrap:wrap;\n",
              "      gap: 12px;\n",
              "    }\n",
              "\n",
              "    .colab-df-convert {\n",
              "      background-color: #E8F0FE;\n",
              "      border: none;\n",
              "      border-radius: 50%;\n",
              "      cursor: pointer;\n",
              "      display: none;\n",
              "      fill: #1967D2;\n",
              "      height: 32px;\n",
              "      padding: 0 0 0 0;\n",
              "      width: 32px;\n",
              "    }\n",
              "\n",
              "    .colab-df-convert:hover {\n",
              "      background-color: #E2EBFA;\n",
              "      box-shadow: 0px 1px 2px rgba(60, 64, 67, 0.3), 0px 1px 3px 1px rgba(60, 64, 67, 0.15);\n",
              "      fill: #174EA6;\n",
              "    }\n",
              "\n",
              "    [theme=dark] .colab-df-convert {\n",
              "      background-color: #3B4455;\n",
              "      fill: #D2E3FC;\n",
              "    }\n",
              "\n",
              "    [theme=dark] .colab-df-convert:hover {\n",
              "      background-color: #434B5C;\n",
              "      box-shadow: 0px 1px 3px 1px rgba(0, 0, 0, 0.15);\n",
              "      filter: drop-shadow(0px 1px 2px rgba(0, 0, 0, 0.3));\n",
              "      fill: #FFFFFF;\n",
              "    }\n",
              "  </style>\n",
              "\n",
              "      <script>\n",
              "        const buttonEl =\n",
              "          document.querySelector('#df-b9dede80-9686-4332-8ab6-e3f6352ef494 button.colab-df-convert');\n",
              "        buttonEl.style.display =\n",
              "          google.colab.kernel.accessAllowed ? 'block' : 'none';\n",
              "\n",
              "        async function convertToInteractive(key) {\n",
              "          const element = document.querySelector('#df-b9dede80-9686-4332-8ab6-e3f6352ef494');\n",
              "          const dataTable =\n",
              "            await google.colab.kernel.invokeFunction('convertToInteractive',\n",
              "                                                     [key], {});\n",
              "          if (!dataTable) return;\n",
              "\n",
              "          const docLinkHtml = 'Like what you see? Visit the ' +\n",
              "            '<a target=\"_blank\" href=https://colab.research.google.com/notebooks/data_table.ipynb>data table notebook</a>'\n",
              "            + ' to learn more about interactive tables.';\n",
              "          element.innerHTML = '';\n",
              "          dataTable['output_type'] = 'display_data';\n",
              "          await google.colab.output.renderOutput(dataTable, element);\n",
              "          const docLink = document.createElement('div');\n",
              "          docLink.innerHTML = docLinkHtml;\n",
              "          element.appendChild(docLink);\n",
              "        }\n",
              "      </script>\n",
              "    </div>\n",
              "  </div>\n",
              "  "
            ]
          },
          "metadata": {},
          "execution_count": 25
        }
      ],
      "source": [
        "images.describe()"
      ]
    },
    {
      "cell_type": "markdown",
      "source": [
        "Vi ser på fordelingen av verdier for å se etter ekstremer"
      ],
      "metadata": {
        "id": "6Qy2EfvMPcSA"
      }
    },
    {
      "cell_type": "code",
      "execution_count": null,
      "metadata": {
        "colab": {
          "base_uri": "https://localhost:8080/",
          "height": 879
        },
        "id": "s0iqwKRPa7jk",
        "outputId": "d7f4a2a5-a375-4631-bdbb-252a1a0f0bee"
      },
      "outputs": [
        {
          "output_type": "execute_result",
          "data": {
            "text/plain": [
              "(array([3.000000e+00, 9.000000e+00, 4.000000e+01, 1.180000e+02,\n",
              "        3.770000e+02, 2.851000e+03, 5.280000e+03, 2.827400e+04,\n",
              "        5.248700e+04, 1.502650e+05, 2.846210e+05, 5.272660e+05,\n",
              "        8.206830e+05, 1.099113e+06, 1.190154e+06, 1.139344e+06,\n",
              "        1.016343e+06, 8.614010e+05, 6.679330e+05, 4.658610e+05,\n",
              "        2.941570e+05, 1.687230e+05, 9.041000e+04, 4.792900e+04,\n",
              "        2.781700e+04, 1.777500e+04, 1.297300e+04, 1.013700e+04,\n",
              "        8.434000e+03, 6.936000e+03, 5.838000e+03, 4.746000e+03,\n",
              "        3.870000e+03, 3.048000e+03, 2.208000e+03, 1.721000e+03,\n",
              "        1.182000e+03, 7.810000e+02, 5.170000e+02, 2.630000e+02,\n",
              "        2.150000e+02, 1.480000e+02, 9.300000e+01, 4.600000e+01,\n",
              "        4.900000e+01, 3.200000e+01, 1.300000e+01, 7.000000e+00,\n",
              "        5.000000e+00, 4.000000e+00]),\n",
              " array([-45.594448 , -43.9910607, -42.3876734, -40.7842861, -39.1808988,\n",
              "        -37.5775115, -35.9741242, -34.3707369, -32.7673496, -31.1639623,\n",
              "        -29.560575 , -27.9571877, -26.3538004, -24.7504131, -23.1470258,\n",
              "        -21.5436385, -19.9402512, -18.3368639, -16.7334766, -15.1300893,\n",
              "        -13.526702 , -11.9233147, -10.3199274,  -8.7165401,  -7.1131528,\n",
              "         -5.5097655,  -3.9063782,  -2.3029909,  -0.6996036,   0.9037837,\n",
              "          2.507171 ,   4.1105583,   5.7139456,   7.3173329,   8.9207202,\n",
              "         10.5241075,  12.1274948,  13.7308821,  15.3342694,  16.9376567,\n",
              "         18.541044 ,  20.1444313,  21.7478186,  23.3512059,  24.9545932,\n",
              "         26.5579805,  28.1613678,  29.7647551,  31.3681424,  32.9715297,\n",
              "         34.574917 ]),\n",
              " <BarContainer object of 50 artists>)"
            ]
          },
          "metadata": {},
          "execution_count": 29
        },
        {
          "output_type": "display_data",
          "data": {
            "text/plain": [
              "<Figure size 640x480 with 1 Axes>"
            ],
            "image/png": "[encoded data removed]"
          },
          "metadata": {}
        }
      ],
      "source": [
        "image_list = images.values.tolist()\n",
        "flat_list = [item for sublist in image_list for item in sublist]\n",
        "plt.hist(flat_list, bins=50)"
      ]
    },
    {
      "cell_type": "markdown",
      "source": [
        "Vi ser også på den fordelingen loggaritmisk. Det er ingen verdier som direkte skiller seg ut."
      ],
      "metadata": {
        "id": "RhJM33DpPg91"
      }
    },
    {
      "cell_type": "code",
      "source": [
        "import pylab as pl\n",
        "\n",
        "pl.hist(flat_list, bins=50)\n",
        "pl.gca().set_yscale(\"log\")\n",
        "pl.show()"
      ],
      "metadata": {
        "colab": {
          "base_uri": "https://localhost:8080/",
          "height": 430
        },
        "id": "8fqvBRaKdmzB",
        "outputId": "fbf10cee-8ece-4884-9553-3d2a85e2e2b4"
      },
      "execution_count": null,
      "outputs": [
        {
          "output_type": "display_data",
          "data": {
            "text/plain": [
              "<Figure size 640x480 with 1 Axes>"
            ],
            "image/png": "[encoded data removed]"
          },
          "metadata": {}
        }
      ]
    },
    {
      "cell_type": "markdown",
      "source": [
        "Vi finner den høyeste og minste slik at vi kan bruke disse videre"
      ],
      "metadata": {
        "id": "hJjMwmmuPrpt"
      }
    },
    {
      "cell_type": "code",
      "source": [
        "highest = max(flat_list)\n",
        "lowest = min(flat_list)"
      ],
      "metadata": {
        "id": "fHx7uzbLeR2D"
      },
      "execution_count": null,
      "outputs": []
    },
    {
      "cell_type": "code",
      "source": [
        "print(highest, lowest)"
      ],
      "metadata": {
        "id": "TxxWvxm3xJ6t",
        "outputId": "a69e1b40-22c9-4e25-d57e-9eeb9c8db2ba",
        "colab": {
          "base_uri": "https://localhost:8080/"
        }
      },
      "execution_count": null,
      "outputs": [
        {
          "output_type": "stream",
          "name": "stdout",
          "text": [
            "34.574917 -45.594448\n"
          ]
        }
      ]
    },
    {
      "cell_type": "markdown",
      "source": [
        "Tidligere ble denne notebooken brukt til å generere bilder. For å hente ut bildene, brukes nå en datablock istede."
      ],
      "metadata": {
        "id": "VDCvw_uzPwTI"
      }
    }
  ],
  "metadata": {
    "colab": {
      "provenance": []
    },
    "kernelspec": {
      "display_name": "Python 3",
      "name": "python3"
    },
    "language_info": {
      "name": "python"
    }
  },
  "nbformat": 4,
  "nbformat_minor": 0
}